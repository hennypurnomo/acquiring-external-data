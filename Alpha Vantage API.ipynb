{
 "cells": [
  {
   "cell_type": "markdown",
   "metadata": {},
   "source": [
    "# Alpha Advantage Data Extraction"
   ]
  },
  {
   "cell_type": "markdown",
   "metadata": {},
   "source": [
    "Let's extract data from Alpha Advantage API.\n",
    "\n",
    "First thing first, we need to obtain an API key. To do that, please visit this link: (https://www.alphavantage.co/support/#api-key) and follow the instructions."
   ]
  },
  {
   "cell_type": "markdown",
   "metadata": {},
   "source": [
    "# 1. Using Wrapper in Python"
   ]
  },
  {
   "cell_type": "code",
   "execution_count": null,
   "metadata": {},
   "outputs": [],
   "source": [
    "#install wrapper for alpha vantage\n",
    "!pip install alpha_vantage"
   ]
  },
  {
   "cell_type": "code",
   "execution_count": null,
   "metadata": {},
   "outputs": [],
   "source": [
    "#install libraries\n",
    "import requests\n",
    "from alpha_vantage.timeseries import TimeSeries\n",
    "import json\n",
    "import matplotlib.pyplot as plt\n",
    "import pandas as pd"
   ]
  },
  {
   "cell_type": "code",
   "execution_count": null,
   "metadata": {},
   "outputs": [],
   "source": [
    "#provide api key\n",
    "api_key = 'GO6YECDUJU1FWBJ3'"
   ]
  },
  {
   "cell_type": "markdown",
   "metadata": {},
   "source": [
    "Acquiring data from alpha vantage's wrapper in python.\n",
    "We need to know the symbol of company, to know it, just google using this keyword '{company_name} stock'.\n",
    "\n",
    "There are some examples of the company code, as below:\n",
    "GOOGL = Google\n",
    "MSFT = Microsoft\n",
    "AAPL = Apple"
   ]
  },
  {
   "cell_type": "markdown",
   "metadata": {},
   "source": [
    "### Let's try to get data for Google's stock with 60 minutes interval"
   ]
  },
  {
   "cell_type": "code",
   "execution_count": null,
   "metadata": {},
   "outputs": [],
   "source": [
    "#call the wrapper and extract the data into dataframe\n",
    "ts = TimeSeries(key=api_key, output_format='pandas')\n",
    "data, meta_data = ts.get_intraday(symbol='GOOGL', interval='60min', outputsize='full')\n",
    "print(data)"
   ]
  },
  {
   "cell_type": "code",
   "execution_count": null,
   "metadata": {},
   "outputs": [],
   "source": [
    "#visualize the result\n",
    "data['4. close'].plot()\n",
    "plt.title('Intraday Time Series for the Google stock (60min)')\n",
    "plt.grid()\n",
    "plt.show()"
   ]
  },
  {
   "cell_type": "markdown",
   "metadata": {},
   "source": [
    "### Let's try to get data for Apple's stock with 5 minutes interval"
   ]
  },
  {
   "cell_type": "code",
   "execution_count": null,
   "metadata": {},
   "outputs": [],
   "source": [
    "#call the wrapper and extract the data into dataframe\n",
    "ts = TimeSeries(key=api_key, output_format='pandas')\n",
    "data, meta_data = ts.get_intraday(symbol='AAPL', interval='5min', outputsize='full')\n",
    "print(data)"
   ]
  },
  {
   "cell_type": "code",
   "execution_count": null,
   "metadata": {},
   "outputs": [],
   "source": [
    "#visualize the result\n",
    "data['4. close'].plot()\n",
    "plt.title('Intraday Time Series for the Google stock (60min)')\n",
    "plt.grid()\n",
    "plt.show()"
   ]
  },
  {
   "cell_type": "markdown",
   "metadata": {},
   "source": [
    "# 2. Obtaining data from Alpha Vantage API"
   ]
  },
  {
   "cell_type": "markdown",
   "metadata": {},
   "source": [
    "This time, we call the API and load the data into python and store it into dataframe"
   ]
  },
  {
   "cell_type": "code",
   "execution_count": null,
   "metadata": {},
   "outputs": [],
   "source": [
    "#define the link\n",
    "API_URL = 'https://www.alphavantage.co/query'\n",
    "\n",
    "#create function to automatically extract the data\n",
    "def extract_data(symbol, interval, API_URL, api_key):\n",
    "    \n",
    "    #define the parameters that are needed\n",
    "    data = { \"function\": \"TIME_SERIES_INTRADAY\", \n",
    "            \"symbol\": symbol,\n",
    "            \"interval\" : interval,       \n",
    "            \"datatype\": \"json\", \n",
    "            \"apikey\": api_key} \n",
    "    \n",
    "    #call the api and store into json format\n",
    "    response = requests.get(API_URL, data) \n",
    "    data = response.json()\n",
    "    data = data['Time Series (%s)' % (interval)]\n",
    "    \n",
    "    #store into dataframe\n",
    "    df = pd.DataFrame.from_dict(data, orient='index')\n",
    "    return df"
   ]
  },
  {
   "cell_type": "markdown",
   "metadata": {},
   "source": [
    "### Let's try to get data for Apple's stock with 5 minutes interval"
   ]
  },
  {
   "cell_type": "code",
   "execution_count": null,
   "metadata": {},
   "outputs": [],
   "source": [
    "#extract to dataframe\n",
    "aapl = extract_data('AAPL', '5min', API_URL, api_key)\n",
    "aapl"
   ]
  },
  {
   "cell_type": "markdown",
   "metadata": {},
   "source": [
    "### Let's try to get data for Microsoft's stock with 30 minutes interval"
   ]
  },
  {
   "cell_type": "code",
   "execution_count": null,
   "metadata": {},
   "outputs": [],
   "source": [
    "#extract to dataframe\n",
    "msft = extract_data('MSFT', '30min', API_URL, api_key)\n",
    "msft"
   ]
  }
 ],
 "metadata": {
  "kernelspec": {
   "display_name": "Python 3",
   "language": "python",
   "name": "python3"
  },
  "language_info": {
   "codemirror_mode": {
    "name": "ipython",
    "version": 3
   },
   "file_extension": ".py",
   "mimetype": "text/x-python",
   "name": "python",
   "nbconvert_exporter": "python",
   "pygments_lexer": "ipython3",
   "version": "3.7.2"
  }
 },
 "nbformat": 4,
 "nbformat_minor": 2
}
