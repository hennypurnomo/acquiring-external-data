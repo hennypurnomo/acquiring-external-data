{
 "cells": [
  {
   "cell_type": "markdown",
   "metadata": {},
   "source": [
    "# Twitter API"
   ]
  },
  {
   "cell_type": "markdown",
   "metadata": {},
   "source": [
    "We will learn how to extract data from Twitter API.\n",
    "\n",
    "Tweepy is easy-to-use Python library for accessing the API.\n",
    "\n",
    "Here is a link for tweepy documentation, https://tweepy.readthedocs.io/en/latest/index.html"
   ]
  },
  {
   "cell_type": "markdown",
   "metadata": {},
   "source": [
    "# Prerequisite\n",
    "create a twitter account, if you already have it, please skip this step. "
   ]
  },
  {
   "cell_type": "code",
   "execution_count": null,
   "metadata": {},
   "outputs": [],
   "source": [
    "#install some dependecies\n",
    "!pip install tweepy\n",
    "!pip install wordcloud\n",
    "!pip install textblob\n",
    "!pip install nltk"
   ]
  },
  {
   "cell_type": "code",
   "execution_count": null,
   "metadata": {},
   "outputs": [],
   "source": [
    "#import the libraries\n",
    "import tweepy as tp\n",
    "import json\n",
    "import pandas as pd"
   ]
  },
  {
   "cell_type": "code",
   "execution_count": null,
   "metadata": {},
   "outputs": [],
   "source": [
    "#Authentication \n",
    "consumer_key = 'cYo1ZjVZtWujP5mJd56Ej6oPc'\n",
    "consumer_secret = 'SyCp8W7yOi30NasRv7hFSQwI10ts1Df9NW5hDbGSsrhqqIhXkM'\n",
    "access_token = '1294698007-hkhnPycvlvwA5TqUfFCz64DM5yFCoRxJqarZKFU'\n",
    "access_token_secret = 'V3vgOUJD5SjGlxyl6qzbQUvpqoNcB40oGYBtFHkAKV4wX'\n",
    "\n",
    "auth = tp.OAuthHandler(consumer_key, consumer_secret)\n",
    "auth.set_access_token(access_token, access_token_secret)\n",
    "api = tp.API(auth)"
   ]
  },
  {
   "cell_type": "markdown",
   "metadata": {},
   "source": [
    "# 1. Obtain data by keyword or user (Search API)"
   ]
  },
  {
   "cell_type": "markdown",
   "metadata": {},
   "source": [
    "We use api.search to find relevant Tweets based on our search"
   ]
  },
  {
   "cell_type": "code",
   "execution_count": null,
   "metadata": {},
   "outputs": [],
   "source": [
    "#get tweet \n",
    "#q is the query, lang is language, items is how many tweets\n",
    "#q can be username, hashtag, keyword\n",
    "tweets = tp.Cursor(api.search, q=\"trianonurhikmat\", lang=\"id\").items(5)\n",
    "\n",
    "#store result in a list\n",
    "result = []\n",
    "for tweet in tweets :\n",
    "    result.append(tweet)"
   ]
  },
  {
   "cell_type": "code",
   "execution_count": null,
   "metadata": {},
   "outputs": [],
   "source": [
    "#print how many tweets and type of result\n",
    "print(type(result))\n",
    "print(len(result))\n",
    "\n",
    "#get tweet text\n",
    "for tweet in result :\n",
    "    print(tweet.text)"
   ]
  },
  {
   "cell_type": "code",
   "execution_count": null,
   "metadata": {},
   "outputs": [],
   "source": [
    "# extract tweet to the pandas dataframe\n",
    "def tweets_df(results):\n",
    "    id_list = [tweet.id for tweet  in results]\n",
    "    df = pd.DataFrame(id_list, columns = [\"id\"])\n",
    "    \n",
    "    df[\"text\"] = [tweet.text for tweet in results]\n",
    "    df[\"created_at\"] = [tweet.created_at for tweet in results]\n",
    "    df[\"retweet_count\"] = [tweet.retweet_count for tweet in results]\n",
    "    df[\"user_screen_name\"] = [tweet.author.screen_name for tweet in results]\n",
    "    df[\"user_followers_count\"] = [tweet.author.followers_count for tweet in results]\n",
    "    df[\"user_location\"] = [tweet.author.location for tweet in results]\n",
    "    df[\"Hashtags\"] = [tweet.entities.get('hashtags') for tweet in results]\n",
    "\n",
    "    return df"
   ]
  },
  {
   "cell_type": "code",
   "execution_count": null,
   "metadata": {},
   "outputs": [],
   "source": [
    "# use the function to get dataframe of the tweet\n",
    "df = tweets_df(result)\n",
    "df.head()"
   ]
  },
  {
   "cell_type": "markdown",
   "metadata": {},
   "source": [
    "# 2. Find the trend topics (Trends API)"
   ]
  },
  {
   "cell_type": "markdown",
   "metadata": {},
   "source": [
    "Twitter provides global trends as well as localized tweets."
   ]
  },
  {
   "cell_type": "code",
   "execution_count": null,
   "metadata": {
    "scrolled": false
   },
   "outputs": [],
   "source": [
    "#get the detail of countries\n",
    "world_trends = api.trends_available()\n",
    "world_trends = pd.DataFrame(world_trends)\n",
    "print(world_trends)"
   ]
  },
  {
   "cell_type": "code",
   "execution_count": null,
   "metadata": {},
   "outputs": [],
   "source": [
    "#find the wanted country\n",
    "ind = world_trends.loc[world_trends['country'] == 'Indonesia']\n",
    "ind"
   ]
  },
  {
   "cell_type": "code",
   "execution_count": null,
   "metadata": {
    "scrolled": true
   },
   "outputs": [],
   "source": [
    "# obtain trend in one country based on the woeid\n",
    "ind_trends = api.trends_place(id = 23424846)\n",
    "trends = json.loads(json.dumps(ind_trends, indent = 1))\n",
    "\n",
    "trend_list = []\n",
    "#store into data frame\n",
    "for index, trend in enumerate(trends[0][\"trends\"]):\n",
    "    trend_list.append((index + 1, trend[\"name\"].strip('#')))\n",
    "\n",
    "df = pd.DataFrame(trend_list, columns = ['id', 'name'])\n",
    "df"
   ]
  }
 ],
 "metadata": {
  "kernelspec": {
   "display_name": "Python 3",
   "language": "python",
   "name": "python3"
  },
  "language_info": {
   "codemirror_mode": {
    "name": "ipython",
    "version": 3
   },
   "file_extension": ".py",
   "mimetype": "text/x-python",
   "name": "python",
   "nbconvert_exporter": "python",
   "pygments_lexer": "ipython3",
   "version": "3.7.2"
  }
 },
 "nbformat": 4,
 "nbformat_minor": 2
}
